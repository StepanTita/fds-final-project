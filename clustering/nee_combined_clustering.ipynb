{
 "cells": [
  {
   "cell_type": "code",
   "execution_count": null,
   "id": "10d2ce50",
   "metadata": {},
   "outputs": [],
   "source": [
    "import pandas as pd\n",
    "import numpy as np\n",
    "import matplotlib.pyplot as plt\n",
    "import seaborn as sns\n",
    "\n",
    "from wordcloud import WordCloud\n",
    "from textwrap import wrap\n",
    "from textblob import TextBlob\n",
    "\n",
    "from pytrends.request import TrendReq\n",
    "from pytrends.exceptions import ResponseError\n",
    "\n",
    "from sklearn.feature_extraction.text import CountVectorizer, TfidfVectorizer\n",
    "from sklearn.decomposition import TruncatedSVD, PCA\n",
    "from sklearn.cluster import KMeans, AgglomerativeClustering, DBSCAN, OPTICS\n",
    "from scipy.cluster.hierarchy import dendrogram\n",
    "\n",
    "import re\n",
    "import string\n",
    "import time\n",
    "from PIL import Image\n",
    "from collections import Counter\n",
    "\n",
    "import plotly.express as px"
   ]
  },
  {
   "cell_type": "code",
   "execution_count": null,
   "id": "addca1dc",
   "metadata": {},
   "outputs": [],
   "source": [
    "FIELD_NAME = 'title'"
   ]
  },
  {
   "cell_type": "code",
   "execution_count": null,
   "id": "09bc8cca",
   "metadata": {},
   "outputs": [],
   "source": [
    "data = pd.read_csv(f'../data/prepared/{FIELD_NAME}/named_entity_extraction_stemmer.csv')\n",
    "data"
   ]
  },
  {
   "cell_type": "code",
   "execution_count": null,
   "id": "645b693d",
   "metadata": {},
   "outputs": [],
   "source": [
    "cv = CountVectorizer(analyzer='word')\n",
    "cv_data = cv.fit_transform(data[FIELD_NAME])\n",
    "dtm_data = pd.DataFrame(cv_data.toarray(), columns=cv.get_feature_names_out())\n",
    "dtm_data.index = data.index\n",
    "dtm_data.head(5)"
   ]
  },
  {
   "cell_type": "code",
   "execution_count": null,
   "id": "f9695468",
   "metadata": {},
   "outputs": [],
   "source": [
    "word_freq_data_normalized = dtm_data.T\n",
    "word_freq_data_normalized"
   ]
  },
  {
   "cell_type": "code",
   "execution_count": null,
   "id": "4c7a2bf6",
   "metadata": {},
   "outputs": [],
   "source": [
    "word_freq_data = pd.DataFrame(word_freq_data_normalized.sum(axis=1).reset_index()).rename(columns={'index': 'word', 0: 'freq'})\n",
    "word_freq_data"
   ]
  },
  {
   "cell_type": "code",
   "execution_count": null,
   "id": "fce3532f",
   "metadata": {},
   "outputs": [],
   "source": [
    "TRIM_QUANTILE = 0.7\n",
    "word_freq_data[word_freq_data['freq'] >= word_freq_data['freq'].quantile(TRIM_QUANTILE)]"
   ]
  },
  {
   "cell_type": "code",
   "execution_count": null,
   "id": "640dbe68",
   "metadata": {},
   "outputs": [],
   "source": [
    "stopwords = list(word_freq_data[word_freq_data['freq'] < word_freq_data['freq'].quantile(TRIM_QUANTILE)]['word'])\n",
    "vec_vocab = list(word_freq_data[word_freq_data['freq'] >= word_freq_data['freq'].quantile(TRIM_QUANTILE)]['word'])"
   ]
  },
  {
   "cell_type": "code",
   "execution_count": null,
   "id": "ea1375d9",
   "metadata": {},
   "outputs": [],
   "source": [
    "tfidf_vectorizer = TfidfVectorizer(analyzer='word', stop_words=stopwords, vocabulary=vec_vocab)\n",
    "tfidf_vectorizer"
   ]
  },
  {
   "cell_type": "code",
   "execution_count": null,
   "id": "97bb9cd8",
   "metadata": {},
   "outputs": [],
   "source": [
    "tfidf_matrix = tfidf_vectorizer.fit_transform(data[FIELD_NAME])\n",
    "tfidf_matrix"
   ]
  },
  {
   "cell_type": "code",
   "execution_count": null,
   "id": "4a51c6c5",
   "metadata": {},
   "outputs": [],
   "source": [
    "tfidf_data = pd.DataFrame(tfidf_matrix.toarray())\n",
    "tfidf_data"
   ]
  },
  {
   "cell_type": "code",
   "execution_count": null,
   "id": "84a5a962",
   "metadata": {},
   "outputs": [],
   "source": [
    "feature_names = tfidf_vectorizer.get_feature_names_out()\n",
    "feature_names"
   ]
  },
  {
   "cell_type": "code",
   "execution_count": null,
   "id": "c3a3e670",
   "metadata": {},
   "outputs": [],
   "source": [
    "tfidf_data.columns = feature_names\n",
    "tfidf_data"
   ]
  },
  {
   "cell_type": "markdown",
   "id": "b7f0c7d7",
   "metadata": {},
   "source": [
    "# Truncated SVD"
   ]
  },
  {
   "cell_type": "markdown",
   "id": "4bc3899c",
   "metadata": {},
   "source": [
    "### during the experiments following configurations were tried:\n",
    "\n",
    "* 1000 components - 10 clusters\n",
    "\n",
    "* 100 components - 10 clusters\n",
    "\n",
    "* 50 components - 10 clusters\n",
    "\n",
    "* 100 components - 5 clusters\n",
    "\n",
    "* 100 components - 15 clusters"
   ]
  },
  {
   "cell_type": "code",
   "execution_count": null,
   "id": "ce4a5a91",
   "metadata": {},
   "outputs": [],
   "source": [
    "tsvd = TruncatedSVD(n_components=100, random_state=37)\n",
    "vec_matrix_tsvd = tsvd.fit_transform(tfidf_matrix)\n",
    "vec_matrix_tsvd"
   ]
  },
  {
   "cell_type": "code",
   "execution_count": null,
   "id": "e3a18f43",
   "metadata": {},
   "outputs": [],
   "source": [
    "pd.DataFrame(vec_matrix_tsvd)"
   ]
  },
  {
   "cell_type": "markdown",
   "id": "170c564c",
   "metadata": {},
   "source": [
    "# Clustering\n",
    "\n",
    "## KMeans"
   ]
  },
  {
   "cell_type": "code",
   "execution_count": null,
   "id": "2f9a1bbe",
   "metadata": {},
   "outputs": [],
   "source": [
    "clst10 = KMeans(n_clusters=10, verbose=0, random_state=37)\n",
    "clst10.fit(vec_matrix_tsvd)"
   ]
  },
  {
   "cell_type": "code",
   "execution_count": null,
   "id": "d1ee9017",
   "metadata": {},
   "outputs": [],
   "source": [
    "data['label'] = clst10.labels_\n",
    "data"
   ]
  },
  {
   "cell_type": "code",
   "execution_count": null,
   "id": "9c875b99",
   "metadata": {},
   "outputs": [],
   "source": [
    "labels_count_data = data[[FIELD_NAME, 'label']].groupby(['label', FIELD_NAME]).count()\n",
    "labels_count_data"
   ]
  },
  {
   "cell_type": "code",
   "execution_count": null,
   "id": "b5e54d47",
   "metadata": {},
   "outputs": [],
   "source": [
    "assign_ratio = labels_count_data.reset_index()['label'].value_counts() / labels_count_data.shape[0]\n",
    "assign_ratio"
   ]
  },
  {
   "cell_type": "code",
   "execution_count": null,
   "id": "50294d0a",
   "metadata": {},
   "outputs": [],
   "source": [
    "assign_ratio.sum()"
   ]
  },
  {
   "cell_type": "code",
   "execution_count": null,
   "id": "88f8fed8",
   "metadata": {},
   "outputs": [],
   "source": [
    "flat_labels_count_data = labels_count_data.reset_index()\n",
    "for i in assign_ratio.index:\n",
    "    flat_labels_count_data.loc[flat_labels_count_data['label'] == i, 'ratio'] = assign_ratio.loc[i]\n",
    "flat_labels_count_data.groupby(['label', 'ratio', FIELD_NAME]).first(5)"
   ]
  },
  {
   "cell_type": "code",
   "execution_count": null,
   "id": "e9f92652",
   "metadata": {},
   "outputs": [],
   "source": [
    "def to_viz_data(data, tfidf_data, labels):\n",
    "    transformed_data = []\n",
    "    for label in labels:\n",
    "        new_data = tfidf_data[tfidf_data[data['label'] == label].idxmax(axis=1)].max()[:200]\n",
    "        transformed_data.append(pd.concat([new_data.reset_index(), pd.Series([label] * len(new_data))], axis=1))\n",
    "    viz_data = pd.concat(transformed_data)\n",
    "    viz_data.columns = ['word', 'tfidf', 'label']\n",
    "    return viz_data"
   ]
  },
  {
   "cell_type": "code",
   "execution_count": null,
   "id": "29d441e7",
   "metadata": {},
   "outputs": [],
   "source": [
    "viz_data = to_viz_data(data, tfidf_data, data['label'].unique())\n",
    "viz_data"
   ]
  },
  {
   "cell_type": "markdown",
   "id": "936669cb",
   "metadata": {},
   "source": [
    "## Visualizing the results"
   ]
  },
  {
   "cell_type": "code",
   "execution_count": null,
   "id": "a1ad6cb6",
   "metadata": {},
   "outputs": [],
   "source": [
    "viz_data.sort_values('label').groupby('label').head(10).reset_index(drop=True)"
   ]
  },
  {
   "cell_type": "code",
   "execution_count": null,
   "id": "c9af0103",
   "metadata": {},
   "outputs": [],
   "source": [
    "def visualize_clusters(viz_data):\n",
    "    viz_data = viz_data.copy()\n",
    "    viz_data['label'] += np.abs(viz_data['label'].min())\n",
    "    viz_data = viz_data.sort_values('label').groupby('label').head(10)\n",
    "    fig = px.scatter(viz_data, x='label', y='tfidf', color='label', text='word', hover_data=['label', 'tfidf', 'word'])\n",
    "    fig.update_layout(\n",
    "        font=dict(\n",
    "            family='Courier New, monospace',\n",
    "            size=18,  # Set the font size here\n",
    "            color='black'\n",
    "        ),\n",
    "        xaxis = dict(\n",
    "            tickmode = 'linear',\n",
    "            tick0 = 0,\n",
    "            dtick = 1\n",
    "        ),\n",
    "        yaxis = dict(\n",
    "            tickmode = 'linear',\n",
    "            tick0 = 0,\n",
    "            dtick = 0.05\n",
    "        )\n",
    "    )\n",
    "    fig.update_traces(mode='text', selector=dict(type='scatter'), textfont_size=(viz_data['tfidf'] * 25).values)\n",
    "    fig.for_each_trace(lambda t: t.update(textfont_color=np.array(px.colors.qualitative.Dark24)[t.marker.color], textposition='bottom center'))\n",
    "    fig.show()"
   ]
  },
  {
   "cell_type": "code",
   "execution_count": null,
   "id": "0847e265",
   "metadata": {},
   "outputs": [],
   "source": [
    "visualize_clusters(viz_data)"
   ]
  },
  {
   "cell_type": "code",
   "execution_count": null,
   "id": "f092d528",
   "metadata": {},
   "outputs": [],
   "source": [
    "def plot_dendrogram(model, **kwargs):\n",
    "    # Create linkage matrix and then plot the dendrogram\n",
    "\n",
    "    # create the counts of samples under each node\n",
    "    counts = np.zeros(model.children_.shape[0])\n",
    "    n_samples = len(model.labels_)\n",
    "    for i, merge in enumerate(model.children_):\n",
    "        current_count = 0\n",
    "        for child_idx in merge:\n",
    "            if child_idx < n_samples:\n",
    "                current_count += 1  # leaf node\n",
    "            else:\n",
    "                current_count += counts[child_idx - n_samples]\n",
    "        counts[i] = current_count\n",
    "\n",
    "    linkage_matrix = np.column_stack(\n",
    "        [model.children_, model.distances_, counts]\n",
    "    ).astype(float)\n",
    "\n",
    "    # Plot the corresponding dendrogram\n",
    "    dendrogram(linkage_matrix, **kwargs)"
   ]
  },
  {
   "cell_type": "markdown",
   "id": "c20cdda2",
   "metadata": {},
   "source": [
    "## Agglomerative (ward)"
   ]
  },
  {
   "cell_type": "code",
   "execution_count": null,
   "id": "e9e0258e",
   "metadata": {},
   "outputs": [],
   "source": [
    "clst_agg_ward = AgglomerativeClustering(n_clusters=10, linkage='ward')\n",
    "clst_agg_ward.fit(vec_matrix_tsvd)"
   ]
  },
  {
   "cell_type": "code",
   "execution_count": null,
   "id": "505d63c7",
   "metadata": {},
   "outputs": [],
   "source": [
    "data['label'] = clst_agg_ward.labels_\n",
    "data"
   ]
  },
  {
   "cell_type": "code",
   "execution_count": null,
   "id": "2bbc3d5c",
   "metadata": {},
   "outputs": [],
   "source": [
    "assign_ratio = data['label'].value_counts() / data.shape[0]\n",
    "assign_ratio"
   ]
  },
  {
   "cell_type": "code",
   "execution_count": null,
   "id": "c7f9c77a",
   "metadata": {},
   "outputs": [],
   "source": [
    "viz_data = to_viz_data(data, tfidf_data, data['label'].unique())\n",
    "viz_data"
   ]
  },
  {
   "cell_type": "code",
   "execution_count": null,
   "id": "a0b75cc2",
   "metadata": {},
   "outputs": [],
   "source": [
    "visualize_clusters(viz_data)"
   ]
  },
  {
   "cell_type": "code",
   "execution_count": null,
   "id": "93b7155a",
   "metadata": {},
   "outputs": [],
   "source": [
    "model = AgglomerativeClustering(distance_threshold=0, n_clusters=None, linkage='ward')\n",
    "model.fit(vec_matrix_tsvd)\n",
    "plt.figure(figsize=(18, 12))\n",
    "plot_dendrogram(model, truncate_mode='level', p=5)\n",
    "plt.xlabel('Dendogram agglomerative ward')\n",
    "plt.show()"
   ]
  },
  {
   "cell_type": "markdown",
   "id": "bd7e2100",
   "metadata": {},
   "source": [
    "## Agglomerative (complete)"
   ]
  },
  {
   "cell_type": "code",
   "execution_count": null,
   "id": "aa9fe959",
   "metadata": {},
   "outputs": [],
   "source": [
    "clst_agg_avg = AgglomerativeClustering(n_clusters=10, linkage='complete')\n",
    "clst_agg_avg.fit(vec_matrix_tsvd)"
   ]
  },
  {
   "cell_type": "code",
   "execution_count": null,
   "id": "fea4a9ff",
   "metadata": {},
   "outputs": [],
   "source": [
    "data['label'] = clst_agg_avg.labels_\n",
    "data"
   ]
  },
  {
   "cell_type": "code",
   "execution_count": null,
   "id": "e0671644",
   "metadata": {},
   "outputs": [],
   "source": [
    "assign_ratio = data['label'].value_counts() / data.shape[0]\n",
    "assign_ratio"
   ]
  },
  {
   "cell_type": "code",
   "execution_count": null,
   "id": "97e8a843",
   "metadata": {},
   "outputs": [],
   "source": [
    "viz_data = to_viz_data(data, tfidf_data, data['label'].unique())\n",
    "viz_data"
   ]
  },
  {
   "cell_type": "code",
   "execution_count": null,
   "id": "17c82169",
   "metadata": {},
   "outputs": [],
   "source": [
    "visualize_clusters(viz_data)"
   ]
  },
  {
   "cell_type": "code",
   "execution_count": null,
   "id": "2fe3410c",
   "metadata": {},
   "outputs": [],
   "source": [
    "model = AgglomerativeClustering(distance_threshold=0, n_clusters=None, linkage='complete')\n",
    "model.fit(vec_matrix_tsvd)\n",
    "plt.figure(figsize=(18, 12))\n",
    "plot_dendrogram(model, truncate_mode='level', p=5)\n",
    "plt.xlabel('Dendogram agglomerative complete')\n",
    "plt.show()"
   ]
  },
  {
   "cell_type": "markdown",
   "id": "c9e5951d",
   "metadata": {},
   "source": [
    "## DBSCAN"
   ]
  },
  {
   "cell_type": "code",
   "execution_count": null,
   "id": "0dd546bf",
   "metadata": {},
   "outputs": [],
   "source": [
    "dbscan = DBSCAN(eps=0.5)\n",
    "dbscan.fit(vec_matrix_tsvd)"
   ]
  },
  {
   "cell_type": "code",
   "execution_count": null,
   "id": "8774dbcc",
   "metadata": {},
   "outputs": [],
   "source": [
    "data['label'] = dbscan.labels_\n",
    "data"
   ]
  },
  {
   "cell_type": "code",
   "execution_count": null,
   "id": "08dc79ef",
   "metadata": {},
   "outputs": [],
   "source": [
    "assign_ratio = data['label'].value_counts() / data.shape[0]\n",
    "assign_ratio"
   ]
  },
  {
   "cell_type": "code",
   "execution_count": null,
   "id": "f6c7844b",
   "metadata": {},
   "outputs": [],
   "source": [
    "viz_data = to_viz_data(data, tfidf_data, data['label'].unique())\n",
    "viz_data"
   ]
  },
  {
   "cell_type": "code",
   "execution_count": null,
   "id": "f077d8f5",
   "metadata": {},
   "outputs": [],
   "source": [
    "visualize_clusters(viz_data)"
   ]
  },
  {
   "cell_type": "markdown",
   "id": "2a15683d",
   "metadata": {},
   "source": [
    "## OPTICS"
   ]
  },
  {
   "cell_type": "code",
   "execution_count": null,
   "id": "3c77d5bc",
   "metadata": {},
   "outputs": [],
   "source": [
    "optics = OPTICS(min_samples=25)\n",
    "optics.fit(vec_matrix_tsvd)"
   ]
  },
  {
   "cell_type": "code",
   "execution_count": null,
   "id": "ddbade59",
   "metadata": {},
   "outputs": [],
   "source": [
    "data['label'] = optics.labels_\n",
    "data"
   ]
  },
  {
   "cell_type": "code",
   "execution_count": null,
   "id": "7cbd0f66",
   "metadata": {},
   "outputs": [],
   "source": [
    "assign_ratio = data['label'].value_counts() / data.shape[0]\n",
    "assign_ratio"
   ]
  },
  {
   "cell_type": "code",
   "execution_count": null,
   "id": "f7ca97f5",
   "metadata": {},
   "outputs": [],
   "source": [
    "viz_data = to_viz_data(data, tfidf_data, data['label'].unique())\n",
    "viz_data"
   ]
  },
  {
   "cell_type": "code",
   "execution_count": null,
   "id": "509b3d7c",
   "metadata": {},
   "outputs": [],
   "source": [
    "visualize_clusters(viz_data)"
   ]
  },
  {
   "cell_type": "code",
   "execution_count": null,
   "id": "021b53d4",
   "metadata": {},
   "outputs": [],
   "source": []
  }
 ],
 "metadata": {
  "kernelspec": {
   "display_name": "Python 3 (ipykernel)",
   "language": "python",
   "name": "python3"
  },
  "language_info": {
   "codemirror_mode": {
    "name": "ipython",
    "version": 3
   },
   "file_extension": ".py",
   "mimetype": "text/x-python",
   "name": "python",
   "nbconvert_exporter": "python",
   "pygments_lexer": "ipython3",
   "version": "3.8.12"
  }
 },
 "nbformat": 4,
 "nbformat_minor": 5
}
