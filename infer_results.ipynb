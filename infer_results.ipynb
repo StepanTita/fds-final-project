{
 "cells": [
  {
   "cell_type": "code",
   "execution_count": 1,
   "id": "eca5145b",
   "metadata": {},
   "outputs": [],
   "source": [
    "import pandas as pd\n",
    "import numpy as np\n",
    "\n",
    "from pytrends.request import TrendReq\n",
    "from pytrends.exceptions import ResponseError\n",
    "\n",
    "import time\n",
    "import os"
   ]
  },
  {
   "cell_type": "code",
   "execution_count": 2,
   "id": "9afd85ee",
   "metadata": {},
   "outputs": [
    {
     "name": "stdout",
     "output_type": "stream",
     "text": [
      "bbc_news.csv                          description-dbscan-clusters.csv\r\n",
      "bbc_news_new.csv                      description-kmeans-clusters.csv\r\n",
      "combined-agg-complete-clusters.csv    description-optics-clusters.csv\r\n",
      "combined-agg-ward-clusters.csv        title-agg-complete-clusters.csv\r\n",
      "combined-dbscan-clusters.csv          title-agg-ward-clusters.csv\r\n",
      "combined-kmeans-clusters.csv          title-dbscan-clusters.csv\r\n",
      "combined-optics-clusters.csv          title-kmeans-clusters.csv\r\n",
      "description-agg-complete-clusters.csv title-optics-clusters.csv\r\n",
      "description-agg-ward-clusters.csv     \u001b[34mtopics\u001b[m\u001b[m\r\n"
     ]
    }
   ],
   "source": [
    "!ls ./Data"
   ]
  },
  {
   "cell_type": "code",
   "execution_count": 3,
   "id": "cd8350d6",
   "metadata": {},
   "outputs": [
    {
     "data": {
      "text/plain": [
       "['description-agg-complete-clusters.csv',\n",
       " 'title-agg-complete-clusters.csv',\n",
       " 'description-dbscan-clusters.csv',\n",
       " 'combined-optics-clusters.csv',\n",
       " 'description-kmeans-clusters.csv',\n",
       " 'title-optics-clusters.csv',\n",
       " 'description-agg-ward-clusters.csv',\n",
       " 'title-kmeans-clusters.csv',\n",
       " 'title-dbscan-clusters.csv',\n",
       " 'combined-kmeans-clusters.csv',\n",
       " 'combined-dbscan-clusters.csv',\n",
       " 'combined-agg-ward-clusters.csv',\n",
       " 'title-agg-ward-clusters.csv',\n",
       " 'description-optics-clusters.csv']"
      ]
     },
     "execution_count": 3,
     "metadata": {},
     "output_type": "execute_result"
    }
   ],
   "source": [
    "file_names = list(filter(lambda x: x.endswith('-clusters.csv') and x not in os.listdir('./Data/topics/'), os.listdir('./Data')))\n",
    "file_names"
   ]
  },
  {
   "cell_type": "code",
   "execution_count": 4,
   "id": "e7918cdf",
   "metadata": {},
   "outputs": [
    {
     "data": {
      "text/plain": [
       "{'description-agg-complete-clusters.csv': None,\n",
       " 'title-agg-complete-clusters.csv': None,\n",
       " 'description-dbscan-clusters.csv': None,\n",
       " 'combined-optics-clusters.csv': None,\n",
       " 'description-kmeans-clusters.csv': None,\n",
       " 'title-optics-clusters.csv': None,\n",
       " 'description-agg-ward-clusters.csv': None,\n",
       " 'title-kmeans-clusters.csv': None,\n",
       " 'title-dbscan-clusters.csv': None,\n",
       " 'combined-kmeans-clusters.csv': None,\n",
       " 'combined-dbscan-clusters.csv': None,\n",
       " 'combined-agg-ward-clusters.csv': None,\n",
       " 'title-agg-ward-clusters.csv': None,\n",
       " 'description-optics-clusters.csv': None}"
      ]
     },
     "execution_count": 4,
     "metadata": {},
     "output_type": "execute_result"
    }
   ],
   "source": [
    "datas = {k: None for k in file_names}\n",
    "datas"
   ]
  },
  {
   "cell_type": "code",
   "execution_count": 5,
   "id": "61760032",
   "metadata": {},
   "outputs": [
    {
     "data": {
      "text/plain": [
       "{'description-agg-complete-clusters.csv':             word     tfidf  label\n",
       " 0         forget  0.572116      8\n",
       " 1        worried  0.584743      8\n",
       " 2        extreme  0.533802      8\n",
       " 3        helping  1.000000      8\n",
       " 4           done  0.602631      8\n",
       " ...          ...       ...    ...\n",
       " 1372  vulnerable  0.593579      9\n",
       " 1373      launch  0.658241      9\n",
       " 1374        book  0.812209      9\n",
       " 1375     decider  0.479084      9\n",
       " 1376        wild  0.742275      9\n",
       " \n",
       " [1377 rows x 3 columns],\n",
       " 'title-agg-complete-clusters.csv':            word     tfidf  label\n",
       " 0        punish  0.547101      6\n",
       " 1        global  0.709860      6\n",
       " 2         arena  0.614520      6\n",
       " 3       highest  0.577350      6\n",
       " 4         grant  0.568683      6\n",
       " ...         ...       ...    ...\n",
       " 1561       year  0.918845      7\n",
       " 1562     esteem  0.506666      7\n",
       " 1563  childhood  0.597876      7\n",
       " 1564    slavery  0.521664      7\n",
       " 1565       epic  0.791599      7\n",
       " \n",
       " [1566 rows x 3 columns],\n",
       " 'description-dbscan-clusters.csv':          word     tfidf  label\n",
       " 0      forget  0.572116      0\n",
       " 1        flee  0.500243      0\n",
       " 2     deliver  0.533911      0\n",
       " 3       arena  0.551416      0\n",
       " 4    consumer  0.508268      0\n",
       " ..        ...       ...    ...\n",
       " 395     truss  0.584830     -1\n",
       " 396     nurse  0.628899     -1\n",
       " 397  together  0.540971     -1\n",
       " 398      used  0.638725     -1\n",
       " 399      here  0.559877     -1\n",
       " \n",
       " [400 rows x 3 columns],\n",
       " 'combined-optics-clusters.csv':          word     tfidf  label\n",
       " 0    atrocity  0.587729     -1\n",
       " 1        flee  0.501800     -1\n",
       " 2        food  0.580697     -1\n",
       " 3       arena  0.616408     -1\n",
       " 4       price  0.589479     -1\n",
       " ..        ...       ...    ...\n",
       " 255  abortion  0.598949      3\n",
       " 256       roe  0.562544      3\n",
       " 257      pill  0.551162      3\n",
       " 258  abortion  0.598949      3\n",
       " 259  abortion  0.598949      3\n",
       " \n",
       " [260 rows x 3 columns],\n",
       " 'description-kmeans-clusters.csv':              word     tfidf  label\n",
       " 0          forget  0.572116      4\n",
       " 1     application  0.568831      4\n",
       " 2           trust  0.580047      4\n",
       " 3            rare  0.703002      4\n",
       " 4      increasing  0.487333      4\n",
       " ...           ...       ...    ...\n",
       " 1995      balance  0.707107      0\n",
       " 1996       season  0.559752      0\n",
       " 1997          top  0.471787      0\n",
       " 1998      perfect  0.529948      0\n",
       " 1999      weekend  0.590616      0\n",
       " \n",
       " [2000 rows x 3 columns],\n",
       " 'title-optics-clusters.csv':               word     tfidf  label\n",
       " 0           punish  0.547101     -1\n",
       " 1            cover  0.564675     -1\n",
       " 2           global  0.709860     -1\n",
       " 3            arena  0.614520     -1\n",
       " 4          highest  0.577350     -1\n",
       " ..             ...       ...    ...\n",
       " 845          tight  0.620684      9\n",
       " 846  investigation  0.636543      9\n",
       " 847          whats  0.680237      9\n",
       " 848       congress  0.659827      9\n",
       " 849       movement  0.655949      9\n",
       " \n",
       " [850 rows x 3 columns],\n",
       " 'description-agg-ward-clusters.csv':            word     tfidf  label\n",
       " 0        forget  0.572116      5\n",
       " 1       measure  0.472351      5\n",
       " 2       protect  1.000000      5\n",
       " 3          link  0.753294      5\n",
       " 4      unlikely  0.684614      5\n",
       " ...         ...       ...    ...\n",
       " 1479      total  0.573237      7\n",
       " 1480      table  0.677675      7\n",
       " 1481  sculpture  0.707107      7\n",
       " 1482      added  0.516569      7\n",
       " 1483     silver  0.653427      7\n",
       " \n",
       " [1484 rows x 3 columns],\n",
       " 'title-kmeans-clusters.csv':                word     tfidf  label\n",
       " 0            punish  0.547101      3\n",
       " 1             arena  0.614520      3\n",
       " 2           highest  0.577350      3\n",
       " 3           testing  0.555251      3\n",
       " 4     understanding  0.634904      3\n",
       " ...             ...       ...    ...\n",
       " 1637        towards  0.580554      6\n",
       " 1638          point  0.846358      6\n",
       " 1639            gay  0.657381      6\n",
       " 1640       highland  0.694029      6\n",
       " 1641   proclamation  0.734216      6\n",
       " \n",
       " [1642 rows x 3 columns],\n",
       " 'title-dbscan-clusters.csv':                word     tfidf  label\n",
       " 0            punish  0.547101     -1\n",
       " 1             cover  0.564675     -1\n",
       " 2            global  0.709860     -1\n",
       " 3             arena  0.614520     -1\n",
       " 4           highest  0.577350     -1\n",
       " ..              ...       ...    ...\n",
       " 454          iconic  0.689662      9\n",
       " 455  representative  0.686513      9\n",
       " 456       handshake  0.678691      9\n",
       " 457          corrie  0.672863      9\n",
       " 458           meant  0.703900      9\n",
       " \n",
       " [459 rows x 3 columns],\n",
       " 'combined-kmeans-clusters.csv':             word     tfidf  label\n",
       " 0       atrocity  0.587729      9\n",
       " 1          arena  0.616408      9\n",
       " 2        content  0.439371      9\n",
       " 3        testing  0.406008      9\n",
       " 4         podium  0.699324      9\n",
       " ...          ...       ...    ...\n",
       " 1839  gymnastics  0.609591      5\n",
       " 1840        jake  0.656882      5\n",
       " 1841       relay  0.534463      5\n",
       " 1842         gay  0.716869      5\n",
       " 1843        king  0.776639      5\n",
       " \n",
       " [1844 rows x 3 columns],\n",
       " 'combined-dbscan-clusters.csv':           word     tfidf  label\n",
       " 0     atrocity  0.587729      0\n",
       " 1         flee  0.501800      0\n",
       " 2         food  0.580697      0\n",
       " 3        arena  0.616408      0\n",
       " 4        price  0.589479      0\n",
       " ..         ...       ...    ...\n",
       " 270     action  0.523330     -1\n",
       " 271    holiday  0.534987     -1\n",
       " 272      royal  0.572235     -1\n",
       " 273  president  0.702271     -1\n",
       " 274        win  0.480951     -1\n",
       " \n",
       " [275 rows x 3 columns],\n",
       " 'combined-agg-ward-clusters.csv':               word     tfidf  label\n",
       " 0         atrocity  0.587729      0\n",
       " 1             flee  0.501800      0\n",
       " 2            arena  0.616408      0\n",
       " 3            dutch  0.500159      0\n",
       " 4          surging  0.411368      0\n",
       " ...            ...       ...    ...\n",
       " 1629    gymnastics  0.609591      9\n",
       " 1630  championship  0.647964      9\n",
       " 1631          jake  0.656882      9\n",
       " 1632         relay  0.534463      9\n",
       " 1633         crash  0.521213      9\n",
       " \n",
       " [1634 rows x 3 columns],\n",
       " 'title-agg-ward-clusters.csv':           word     tfidf  label\n",
       " 0       punish  0.547101      0\n",
       " 1       global  0.709860      0\n",
       " 2        arena  0.614520      0\n",
       " 3      highest  0.577350      0\n",
       " 4         hold  0.498876      0\n",
       " ...        ...       ...    ...\n",
       " 1486     grace  0.652460      7\n",
       " 1487      game  0.802233      7\n",
       " 1488   towards  0.580554      7\n",
       " 1489       gay  0.657381      7\n",
       " 1490  highland  0.694029      7\n",
       " \n",
       " [1491 rows x 3 columns],\n",
       " 'description-optics-clusters.csv':            word     tfidf  label\n",
       " 0        forget  0.572116     -1\n",
       " 1          flee  0.500243     -1\n",
       " 2       deliver  0.533911     -1\n",
       " 3         arena  0.551416     -1\n",
       " 4      consumer  0.508268     -1\n",
       " ..          ...       ...    ...\n",
       " 446      strain  0.698469      1\n",
       " 447       alert  0.537131      1\n",
       " 448  reputation  0.642414      1\n",
       " 449      fringe  0.714569      1\n",
       " 450    aviation  0.537221      1\n",
       " \n",
       " [451 rows x 3 columns]}"
      ]
     },
     "execution_count": 5,
     "metadata": {},
     "output_type": "execute_result"
    }
   ],
   "source": [
    "for k in file_names:\n",
    "    datas[k] = pd.read_csv(f'./Data/{k}')\n",
    "datas"
   ]
  },
  {
   "cell_type": "code",
   "execution_count": 6,
   "id": "c2bc87a5",
   "metadata": {},
   "outputs": [
    {
     "data": {
      "text/plain": [
       "<pytrends.request.TrendReq at 0x7ff6d1b30cd0>"
      ]
     },
     "execution_count": 6,
     "metadata": {},
     "output_type": "execute_result"
    }
   ],
   "source": [
    "trends = TrendReq(hl='en-US', tz=360)\n",
    "trends"
   ]
  },
  {
   "cell_type": "code",
   "execution_count": 7,
   "id": "36a92410",
   "metadata": {},
   "outputs": [],
   "source": [
    "def infer_topic(data):\n",
    "    topics_data = pd.DataFrame()\n",
    "    for kw in data['word']:\n",
    "        print('Starting: ', kw)\n",
    "        \n",
    "        backoff = 1.0001\n",
    "        while True:\n",
    "            try:\n",
    "                trends.build_payload(kw_list=[kw])\n",
    "                related_topics = trends.related_topics()[kw]['top'][['topic_title', 'topic_type']][:3].T\n",
    "                break\n",
    "            except ResponseError as e:\n",
    "                print('Retrying:', e)\n",
    "                time.sleep(1 * backoff)\n",
    "                if backoff < 100:\n",
    "                    backoff = pow(backoff, 2)\n",
    "            except Exception as e:\n",
    "                print('Bad situation...')\n",
    "                time.sleep(10)\n",
    "            print('Using backoff: ', backoff)\n",
    "        n = min(len(related_topics.loc['topic_title', :]), len(related_topics.loc['topic_type', :]))\n",
    "        tmp = pd.DataFrame(pd.concat([related_topics.loc['topic_title', :], related_topics.loc['topic_type', :]])).T\n",
    "        tmp.columns = [f'topic_title_{c}' for c in tmp.columns[:n]] + [f'topic_type_{c}' for c in tmp.columns[n:]]\n",
    "\n",
    "        topics_data = topics_data.append(tmp)\n",
    "        \n",
    "        print('Finished: ', kw)\n",
    "        print('*' * 20)\n",
    "        time.sleep(1)\n",
    "    return topics_data"
   ]
  },
  {
   "cell_type": "code",
   "execution_count": 8,
   "id": "49334641",
   "metadata": {},
   "outputs": [
    {
     "data": {
      "text/plain": [
       "{'description-agg-complete-clusters.csv': None,\n",
       " 'title-agg-complete-clusters.csv': None,\n",
       " 'description-dbscan-clusters.csv': None,\n",
       " 'combined-optics-clusters.csv': None,\n",
       " 'description-kmeans-clusters.csv': None,\n",
       " 'title-optics-clusters.csv': None,\n",
       " 'description-agg-ward-clusters.csv': None,\n",
       " 'title-kmeans-clusters.csv': None,\n",
       " 'title-dbscan-clusters.csv': None,\n",
       " 'combined-kmeans-clusters.csv': None,\n",
       " 'combined-dbscan-clusters.csv': None,\n",
       " 'combined-agg-ward-clusters.csv': None,\n",
       " 'title-agg-ward-clusters.csv': None,\n",
       " 'description-optics-clusters.csv': None}"
      ]
     },
     "execution_count": 8,
     "metadata": {},
     "output_type": "execute_result"
    }
   ],
   "source": [
    "topics = {k: None for k in file_names}\n",
    "topics"
   ]
  },
  {
   "cell_type": "code",
   "execution_count": 9,
   "id": "f89064e8",
   "metadata": {},
   "outputs": [
    {
     "name": "stdout",
     "output_type": "stream",
     "text": [
      "Starting:  forget\n",
      "Retrying: The request failed: Google returned a response with code 429.\n",
      "Using backoff:  1.00020001\n",
      "Retrying: The request failed: Google returned a response with code 429.\n",
      "Using backoff:  1.000400060004\n",
      "Retrying: The request failed: Google returned a response with code 429.\n",
      "Using backoff:  1.0008002800560067\n",
      "Retrying: The request failed: Google returned a response with code 429.\n"
     ]
    },
    {
     "ename": "KeyboardInterrupt",
     "evalue": "",
     "output_type": "error",
     "traceback": [
      "\u001b[0;31m---------------------------------------------------------------------------\u001b[0m",
      "\u001b[0;31mResponseError\u001b[0m                             Traceback (most recent call last)",
      "\u001b[0;32m/var/folders/tn/_r_b9n8d0bg1fzccsh7yq_sc0000gn/T/ipykernel_34603/1272713886.py\u001b[0m in \u001b[0;36minfer_topic\u001b[0;34m(data)\u001b[0m\n\u001b[1;32m      9\u001b[0m                 \u001b[0mtrends\u001b[0m\u001b[0;34m.\u001b[0m\u001b[0mbuild_payload\u001b[0m\u001b[0;34m(\u001b[0m\u001b[0mkw_list\u001b[0m\u001b[0;34m=\u001b[0m\u001b[0;34m[\u001b[0m\u001b[0mkw\u001b[0m\u001b[0;34m]\u001b[0m\u001b[0;34m)\u001b[0m\u001b[0;34m\u001b[0m\u001b[0;34m\u001b[0m\u001b[0m\n\u001b[0;32m---> 10\u001b[0;31m                 \u001b[0mrelated_topics\u001b[0m \u001b[0;34m=\u001b[0m \u001b[0mtrends\u001b[0m\u001b[0;34m.\u001b[0m\u001b[0mrelated_topics\u001b[0m\u001b[0;34m(\u001b[0m\u001b[0;34m)\u001b[0m\u001b[0;34m[\u001b[0m\u001b[0mkw\u001b[0m\u001b[0;34m]\u001b[0m\u001b[0;34m[\u001b[0m\u001b[0;34m'top'\u001b[0m\u001b[0;34m]\u001b[0m\u001b[0;34m[\u001b[0m\u001b[0;34m[\u001b[0m\u001b[0;34m'topic_title'\u001b[0m\u001b[0;34m,\u001b[0m \u001b[0;34m'topic_type'\u001b[0m\u001b[0;34m]\u001b[0m\u001b[0;34m]\u001b[0m\u001b[0;34m[\u001b[0m\u001b[0;34m:\u001b[0m\u001b[0;36m3\u001b[0m\u001b[0;34m]\u001b[0m\u001b[0;34m.\u001b[0m\u001b[0mT\u001b[0m\u001b[0;34m\u001b[0m\u001b[0;34m\u001b[0m\u001b[0m\n\u001b[0m\u001b[1;32m     11\u001b[0m                 \u001b[0;32mbreak\u001b[0m\u001b[0;34m\u001b[0m\u001b[0;34m\u001b[0m\u001b[0m\n",
      "\u001b[0;32m/Users/stepanwork/opt/anaconda3/envs/mlpy38/lib/python3.8/site-packages/pytrends/request.py\u001b[0m in \u001b[0;36mrelated_topics\u001b[0;34m(self)\u001b[0m\n\u001b[1;32m    338\u001b[0m             \u001b[0;31m# parse the returned json\u001b[0m\u001b[0;34m\u001b[0m\u001b[0;34m\u001b[0m\u001b[0;34m\u001b[0m\u001b[0m\n\u001b[0;32m--> 339\u001b[0;31m             req_json = self._get_data(\n\u001b[0m\u001b[1;32m    340\u001b[0m                 \u001b[0murl\u001b[0m\u001b[0;34m=\u001b[0m\u001b[0mTrendReq\u001b[0m\u001b[0;34m.\u001b[0m\u001b[0mRELATED_QUERIES_URL\u001b[0m\u001b[0;34m,\u001b[0m\u001b[0;34m\u001b[0m\u001b[0;34m\u001b[0m\u001b[0m\n",
      "\u001b[0;32m/Users/stepanwork/opt/anaconda3/envs/mlpy38/lib/python3.8/site-packages/pytrends/request.py\u001b[0m in \u001b[0;36m_get_data\u001b[0;34m(self, url, method, trim_chars, **kwargs)\u001b[0m\n\u001b[1;32m    156\u001b[0m             \u001b[0;31m# error\u001b[0m\u001b[0;34m\u001b[0m\u001b[0;34m\u001b[0m\u001b[0;34m\u001b[0m\u001b[0m\n\u001b[0;32m--> 157\u001b[0;31m             raise exceptions.ResponseError(\n\u001b[0m\u001b[1;32m    158\u001b[0m                 \u001b[0;34m'The request failed: Google returned a '\u001b[0m\u001b[0;34m\u001b[0m\u001b[0;34m\u001b[0m\u001b[0m\n",
      "\u001b[0;31mResponseError\u001b[0m: The request failed: Google returned a response with code 429.",
      "\nDuring handling of the above exception, another exception occurred:\n",
      "\u001b[0;31mKeyboardInterrupt\u001b[0m                         Traceback (most recent call last)",
      "\u001b[0;32m/var/folders/tn/_r_b9n8d0bg1fzccsh7yq_sc0000gn/T/ipykernel_34603/4150853794.py\u001b[0m in \u001b[0;36m<module>\u001b[0;34m\u001b[0m\n\u001b[1;32m      1\u001b[0m \u001b[0;32mfor\u001b[0m \u001b[0mk\u001b[0m\u001b[0;34m,\u001b[0m \u001b[0md\u001b[0m \u001b[0;32min\u001b[0m \u001b[0mdatas\u001b[0m\u001b[0;34m.\u001b[0m\u001b[0mitems\u001b[0m\u001b[0;34m(\u001b[0m\u001b[0;34m)\u001b[0m\u001b[0;34m:\u001b[0m\u001b[0;34m\u001b[0m\u001b[0;34m\u001b[0m\u001b[0m\n\u001b[0;32m----> 2\u001b[0;31m     \u001b[0mtopics\u001b[0m\u001b[0;34m[\u001b[0m\u001b[0mk\u001b[0m\u001b[0;34m]\u001b[0m \u001b[0;34m=\u001b[0m \u001b[0minfer_topic\u001b[0m\u001b[0;34m(\u001b[0m\u001b[0md\u001b[0m\u001b[0;34m)\u001b[0m\u001b[0;34m\u001b[0m\u001b[0;34m\u001b[0m\u001b[0m\n\u001b[0m\u001b[1;32m      3\u001b[0m     \u001b[0mtopics\u001b[0m\u001b[0;34m[\u001b[0m\u001b[0mk\u001b[0m\u001b[0;34m]\u001b[0m\u001b[0;34m.\u001b[0m\u001b[0mto_csv\u001b[0m\u001b[0;34m(\u001b[0m\u001b[0;34mf'./Data/topics/{k}'\u001b[0m\u001b[0;34m,\u001b[0m \u001b[0mindex\u001b[0m\u001b[0;34m=\u001b[0m\u001b[0;32mFalse\u001b[0m\u001b[0;34m)\u001b[0m\u001b[0;34m\u001b[0m\u001b[0;34m\u001b[0m\u001b[0m\n",
      "\u001b[0;32m/var/folders/tn/_r_b9n8d0bg1fzccsh7yq_sc0000gn/T/ipykernel_34603/1272713886.py\u001b[0m in \u001b[0;36minfer_topic\u001b[0;34m(data)\u001b[0m\n\u001b[1;32m     12\u001b[0m             \u001b[0;32mexcept\u001b[0m \u001b[0mResponseError\u001b[0m \u001b[0;32mas\u001b[0m \u001b[0me\u001b[0m\u001b[0;34m:\u001b[0m\u001b[0;34m\u001b[0m\u001b[0;34m\u001b[0m\u001b[0m\n\u001b[1;32m     13\u001b[0m                 \u001b[0mprint\u001b[0m\u001b[0;34m(\u001b[0m\u001b[0;34m'Retrying:'\u001b[0m\u001b[0;34m,\u001b[0m \u001b[0me\u001b[0m\u001b[0;34m)\u001b[0m\u001b[0;34m\u001b[0m\u001b[0;34m\u001b[0m\u001b[0m\n\u001b[0;32m---> 14\u001b[0;31m                 \u001b[0mtime\u001b[0m\u001b[0;34m.\u001b[0m\u001b[0msleep\u001b[0m\u001b[0;34m(\u001b[0m\u001b[0;36m1\u001b[0m \u001b[0;34m*\u001b[0m \u001b[0mbackoff\u001b[0m\u001b[0;34m)\u001b[0m\u001b[0;34m\u001b[0m\u001b[0;34m\u001b[0m\u001b[0m\n\u001b[0m\u001b[1;32m     15\u001b[0m                 \u001b[0;32mif\u001b[0m \u001b[0mbackoff\u001b[0m \u001b[0;34m<\u001b[0m \u001b[0;36m100\u001b[0m\u001b[0;34m:\u001b[0m\u001b[0;34m\u001b[0m\u001b[0;34m\u001b[0m\u001b[0m\n\u001b[1;32m     16\u001b[0m                     \u001b[0mbackoff\u001b[0m \u001b[0;34m=\u001b[0m \u001b[0mpow\u001b[0m\u001b[0;34m(\u001b[0m\u001b[0mbackoff\u001b[0m\u001b[0;34m,\u001b[0m \u001b[0;36m2\u001b[0m\u001b[0;34m)\u001b[0m\u001b[0;34m\u001b[0m\u001b[0;34m\u001b[0m\u001b[0m\n",
      "\u001b[0;31mKeyboardInterrupt\u001b[0m: "
     ]
    }
   ],
   "source": [
    "for k, d in datas.items():\n",
    "    topics[k] = infer_topic(d)\n",
    "    topics[k].to_csv(f'./Data/topics/{k}', index=False)"
   ]
  },
  {
   "cell_type": "code",
   "execution_count": null,
   "id": "4175fe4f",
   "metadata": {},
   "outputs": [],
   "source": [
    "!mkdir ./Data/topics"
   ]
  },
  {
   "cell_type": "code",
   "execution_count": null,
   "id": "30a9ec16",
   "metadata": {},
   "outputs": [],
   "source": [
    "for k, v in topics.items():\n",
    "    v.to_csv(f'./Data/topics/{k}')"
   ]
  },
  {
   "cell_type": "code",
   "execution_count": null,
   "id": "cb64841f",
   "metadata": {},
   "outputs": [],
   "source": []
  }
 ],
 "metadata": {
  "kernelspec": {
   "display_name": "Python 3 (ipykernel)",
   "language": "python",
   "name": "python3"
  },
  "language_info": {
   "codemirror_mode": {
    "name": "ipython",
    "version": 3
   },
   "file_extension": ".py",
   "mimetype": "text/x-python",
   "name": "python",
   "nbconvert_exporter": "python",
   "pygments_lexer": "ipython3",
   "version": "3.8.12"
  }
 },
 "nbformat": 4,
 "nbformat_minor": 5
}
